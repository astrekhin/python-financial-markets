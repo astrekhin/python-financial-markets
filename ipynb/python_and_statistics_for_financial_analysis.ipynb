{
 "cells": [
  {
   "cell_type": "markdown",
   "metadata": {},
   "source": [
    "# Python and Statistics for Financial Analysis\n",
    "\n",
    "[Источник](https://www.coursera.org/learn/python-statistics-financial-analysis/)\n",
    "\n",
    "# Содержание\n",
    "\n",
    "[Visualizing and Munging Stock Data](#visualizing-and-munging-stock-data)\n",
    "Random variables and distribution  \n",
    "Sampling and Inference  \n",
    "Linear Regression Models for Financial Analysis  "
   ]
  },
  {
   "cell_type": "markdown",
   "metadata": {},
   "source": [
    "## Visualizing and Munging Stock Data"
   ]
  },
  {
   "cell_type": "markdown",
   "metadata": {},
   "source": [
    "### Importing Pandas"
   ]
  },
  {
   "cell_type": "code",
   "execution_count": null,
   "metadata": {
    "vscode": {
     "languageId": "plaintext"
    }
   },
   "outputs": [],
   "source": [
    "import pandas as pd"
   ]
  }
 ],
 "metadata": {
  "language_info": {
   "name": "python"
  }
 },
 "nbformat": 4,
 "nbformat_minor": 2
}
