{
 "cells": [
  {
   "cell_type": "code",
   "execution_count": null,
   "metadata": {},
   "outputs": [],
   "source": []
  },
  {
   "cell_type": "markdown",
   "metadata": {},
   "source": [
    "# Python and Statistics for Financial Analysis\n",
    "\n",
    "[Источник](https://www.coursera.org/learn/python-statistics-financial-analysis/)\n",
    "\n",
    "# Содержание\n",
    "\n",
    "Week 1 - Visualizing and Munging Stock Data  \n",
    "Week 2 - Random variables and distribution  \n",
    "Week 3 - Sampling and Inference  \n",
    "Week 4 - Linear Regression Models for Financial Analysis  \n"
   ]
  }
 ],
 "metadata": {
  "language_info": {
   "name": "python"
  }
 },
 "nbformat": 4,
 "nbformat_minor": 2
}
